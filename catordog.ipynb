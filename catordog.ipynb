{
 "cells": [
  {
   "cell_type": "code",
   "execution_count": 1,
   "id": "sublime-entry",
   "metadata": {
    "_cell_guid": "b1076dfc-b9ad-4769-8c92-a6c4dae69d19",
    "_uuid": "8f2839f25d086af736a60e9eeb907d3b93b6e0e5",
    "execution": {
     "iopub.execute_input": "2021-06-02T08:45:30.948195Z",
     "iopub.status.busy": "2021-06-02T08:45:30.947303Z",
     "iopub.status.idle": "2021-06-02T08:45:30.952724Z",
     "shell.execute_reply": "2021-06-02T08:45:30.953227Z",
     "shell.execute_reply.started": "2021-06-02T07:41:27.017787Z"
    },
    "papermill": {
     "duration": 0.037008,
     "end_time": "2021-06-02T08:45:30.953555",
     "exception": false,
     "start_time": "2021-06-02T08:45:30.916547",
     "status": "completed"
    },
    "tags": []
   },
   "outputs": [
    {
     "name": "stdout",
     "output_type": "stream",
     "text": [
      "/kaggle/input/dogs-vs-cats/test1.zip\n",
      "/kaggle/input/dogs-vs-cats/train.zip\n",
      "/kaggle/input/dogs-vs-cats/sampleSubmission.csv\n"
     ]
    }
   ],
   "source": [
    "# This Python 3 environment comes with many helpful analytics libraries installed\n",
    "# It is defined by the kaggle/python Docker image: https://github.com/kaggle/docker-python\n",
    "# For example, here's several helpful packages to load\n",
    "\n",
    "import numpy as np # linear algebra\n",
    "import pandas as pd # data processing, CSV file I/O (e.g. pd.read_csv)\n",
    "\n",
    "# Input data files are available in the read-only \"../input/\" directory\n",
    "# For example, running this (by clicking run or pressing Shift+Enter) will list all files under the input directory\n",
    "\n",
    "import os\n",
    "for dirname, _, filenames in os.walk('/kaggle/input'):\n",
    "    for filename in filenames:\n",
    "        print(os.path.join(dirname, filename))\n",
    "\n",
    "# You can write up to 20GB to the current directory (/kaggle/working/) that gets preserved as output when you create a version using \"Save & Run All\" \n",
    "# You can also write temporary files to /kaggle/temp/, but they won't be saved outside of the current session"
   ]
  },
  {
   "cell_type": "code",
   "execution_count": 2,
   "id": "framed-shuttle",
   "metadata": {
    "execution": {
     "iopub.execute_input": "2021-06-02T08:45:31.002052Z",
     "iopub.status.busy": "2021-06-02T08:45:31.001346Z",
     "iopub.status.idle": "2021-06-02T08:45:48.450301Z",
     "shell.execute_reply": "2021-06-02T08:45:48.449808Z",
     "shell.execute_reply.started": "2021-06-02T07:41:27.036344Z"
    },
    "papermill": {
     "duration": 17.474949,
     "end_time": "2021-06-02T08:45:48.450446",
     "exception": false,
     "start_time": "2021-06-02T08:45:30.975497",
     "status": "completed"
    },
    "tags": []
   },
   "outputs": [
    {
     "data": {
      "text/plain": [
       "\"import shutil\\nshutil.rmtree('/kaggle/working/train')\""
      ]
     },
     "execution_count": 2,
     "metadata": {},
     "output_type": "execute_result"
    }
   ],
   "source": [
    "import zipfile\n",
    "import os\n",
    "# zip file handler  \n",
    "zip = zipfile.ZipFile('/kaggle/input/dogs-vs-cats/train.zip')\n",
    "zip.extractall('/kaggle/temp/')\n",
    "\n",
    "# list available files in the container\n",
    "#print (zip.namelist())\n",
    "'''import shutil\n",
    "shutil.rmtree('/kaggle/working/train')'''"
   ]
  },
  {
   "cell_type": "code",
   "execution_count": 3,
   "id": "million-frank",
   "metadata": {
    "execution": {
     "iopub.execute_input": "2021-06-02T08:45:48.486456Z",
     "iopub.status.busy": "2021-06-02T08:45:48.485946Z",
     "iopub.status.idle": "2021-06-02T08:45:48.572250Z",
     "shell.execute_reply": "2021-06-02T08:45:48.572641Z",
     "shell.execute_reply.started": "2021-06-02T07:41:40.100879Z"
    },
    "papermill": {
     "duration": 0.107641,
     "end_time": "2021-06-02T08:45:48.572793",
     "exception": false,
     "start_time": "2021-06-02T08:45:48.465152",
     "status": "completed"
    },
    "tags": []
   },
   "outputs": [
    {
     "data": {
      "text/html": [
       "<div>\n",
       "<style scoped>\n",
       "    .dataframe tbody tr th:only-of-type {\n",
       "        vertical-align: middle;\n",
       "    }\n",
       "\n",
       "    .dataframe tbody tr th {\n",
       "        vertical-align: top;\n",
       "    }\n",
       "\n",
       "    .dataframe thead th {\n",
       "        text-align: right;\n",
       "    }\n",
       "</style>\n",
       "<table border=\"1\" class=\"dataframe\">\n",
       "  <thead>\n",
       "    <tr style=\"text-align: right;\">\n",
       "      <th></th>\n",
       "      <th>id</th>\n",
       "      <th>filename</th>\n",
       "      <th>category</th>\n",
       "    </tr>\n",
       "  </thead>\n",
       "  <tbody>\n",
       "    <tr>\n",
       "      <th>0</th>\n",
       "      <td>890</td>\n",
       "      <td>dog.890.jpg</td>\n",
       "      <td>dog</td>\n",
       "    </tr>\n",
       "    <tr>\n",
       "      <th>1</th>\n",
       "      <td>1178</td>\n",
       "      <td>dog.1178.jpg</td>\n",
       "      <td>dog</td>\n",
       "    </tr>\n",
       "    <tr>\n",
       "      <th>2</th>\n",
       "      <td>7845</td>\n",
       "      <td>dog.7845.jpg</td>\n",
       "      <td>dog</td>\n",
       "    </tr>\n",
       "    <tr>\n",
       "      <th>3</th>\n",
       "      <td>4632</td>\n",
       "      <td>dog.4632.jpg</td>\n",
       "      <td>dog</td>\n",
       "    </tr>\n",
       "    <tr>\n",
       "      <th>4</th>\n",
       "      <td>3660</td>\n",
       "      <td>cat.3660.jpg</td>\n",
       "      <td>cat</td>\n",
       "    </tr>\n",
       "  </tbody>\n",
       "</table>\n",
       "</div>"
      ],
      "text/plain": [
       "     id      filename category\n",
       "0   890   dog.890.jpg      dog\n",
       "1  1178  dog.1178.jpg      dog\n",
       "2  7845  dog.7845.jpg      dog\n",
       "3  4632  dog.4632.jpg      dog\n",
       "4  3660  cat.3660.jpg      cat"
      ]
     },
     "execution_count": 3,
     "metadata": {},
     "output_type": "execute_result"
    }
   ],
   "source": [
    "filenames = os.listdir('/kaggle/temp/train') \n",
    "'''example: ['dog.890.jpg',\n",
    " 'dog.1178.jpg',\n",
    " 'dog.7845.jpg',\n",
    " 'dog.4632.jpg',\n",
    " 'cat.3660.jpg']'''\n",
    "import re\n",
    "\n",
    "category=[]\n",
    "id = []\n",
    "for name in filenames:\n",
    "    id.append(name.split('.')[1])\n",
    "    category.append(name.split('.')[0])\n",
    "    '''if re.match(r\"dog.*\", name):\n",
    "        category.append(1)\n",
    "    else: \n",
    "        category.append(0)'''\n",
    "df = pd.DataFrame.from_dict({'id':id,'filename':filenames,'category':category})\n",
    "df.head()"
   ]
  },
  {
   "cell_type": "code",
   "execution_count": 4,
   "id": "pediatric-equity",
   "metadata": {
    "execution": {
     "iopub.execute_input": "2021-06-02T08:45:48.616200Z",
     "iopub.status.busy": "2021-06-02T08:45:48.615705Z",
     "iopub.status.idle": "2021-06-02T08:45:48.633411Z",
     "shell.execute_reply": "2021-06-02T08:45:48.632876Z",
     "shell.execute_reply.started": "2021-06-02T07:41:40.194082Z"
    },
    "papermill": {
     "duration": 0.045667,
     "end_time": "2021-06-02T08:45:48.633523",
     "exception": false,
     "start_time": "2021-06-02T08:45:48.587856",
     "status": "completed"
    },
    "tags": []
   },
   "outputs": [
    {
     "data": {
      "text/html": [
       "<div>\n",
       "<style scoped>\n",
       "    .dataframe tbody tr th:only-of-type {\n",
       "        vertical-align: middle;\n",
       "    }\n",
       "\n",
       "    .dataframe tbody tr th {\n",
       "        vertical-align: top;\n",
       "    }\n",
       "\n",
       "    .dataframe thead th {\n",
       "        text-align: right;\n",
       "    }\n",
       "</style>\n",
       "<table border=\"1\" class=\"dataframe\">\n",
       "  <thead>\n",
       "    <tr style=\"text-align: right;\">\n",
       "      <th></th>\n",
       "      <th>id</th>\n",
       "      <th>filename</th>\n",
       "    </tr>\n",
       "    <tr>\n",
       "      <th>category</th>\n",
       "      <th></th>\n",
       "      <th></th>\n",
       "    </tr>\n",
       "  </thead>\n",
       "  <tbody>\n",
       "    <tr>\n",
       "      <th>cat</th>\n",
       "      <td>12500</td>\n",
       "      <td>12500</td>\n",
       "    </tr>\n",
       "    <tr>\n",
       "      <th>dog</th>\n",
       "      <td>12500</td>\n",
       "      <td>12500</td>\n",
       "    </tr>\n",
       "  </tbody>\n",
       "</table>\n",
       "</div>"
      ],
      "text/plain": [
       "             id  filename\n",
       "category                 \n",
       "cat       12500     12500\n",
       "dog       12500     12500"
      ]
     },
     "execution_count": 4,
     "metadata": {},
     "output_type": "execute_result"
    }
   ],
   "source": [
    "df.groupby('category').count()"
   ]
  },
  {
   "cell_type": "code",
   "execution_count": 5,
   "id": "affecting-mainstream",
   "metadata": {
    "execution": {
     "iopub.execute_input": "2021-06-02T08:45:48.669267Z",
     "iopub.status.busy": "2021-06-02T08:45:48.668744Z",
     "iopub.status.idle": "2021-06-02T08:45:50.155213Z",
     "shell.execute_reply": "2021-06-02T08:45:50.155705Z",
     "shell.execute_reply.started": "2021-06-02T07:41:40.794747Z"
    },
    "papermill": {
     "duration": 1.506982,
     "end_time": "2021-06-02T08:45:50.155847",
     "exception": false,
     "start_time": "2021-06-02T08:45:48.648865",
     "status": "completed"
    },
    "tags": []
   },
   "outputs": [],
   "source": [
    "from sklearn.model_selection import train_test_split\n",
    "train, test = train_test_split(df, test_size=0.3, stratify=df.category)"
   ]
  },
  {
   "cell_type": "code",
   "execution_count": 6,
   "id": "varying-vehicle",
   "metadata": {
    "execution": {
     "iopub.execute_input": "2021-06-02T08:45:50.197323Z",
     "iopub.status.busy": "2021-06-02T08:45:50.196837Z",
     "iopub.status.idle": "2021-06-02T08:45:50.214865Z",
     "shell.execute_reply": "2021-06-02T08:45:50.214306Z"
    },
    "papermill": {
     "duration": 0.043938,
     "end_time": "2021-06-02T08:45:50.215005",
     "exception": false,
     "start_time": "2021-06-02T08:45:50.171067",
     "status": "completed"
    },
    "tags": []
   },
   "outputs": [
    {
     "data": {
      "text/html": [
       "<div>\n",
       "<style scoped>\n",
       "    .dataframe tbody tr th:only-of-type {\n",
       "        vertical-align: middle;\n",
       "    }\n",
       "\n",
       "    .dataframe tbody tr th {\n",
       "        vertical-align: top;\n",
       "    }\n",
       "\n",
       "    .dataframe thead th {\n",
       "        text-align: right;\n",
       "    }\n",
       "</style>\n",
       "<table border=\"1\" class=\"dataframe\">\n",
       "  <thead>\n",
       "    <tr style=\"text-align: right;\">\n",
       "      <th></th>\n",
       "      <th>id</th>\n",
       "      <th>filename</th>\n",
       "    </tr>\n",
       "    <tr>\n",
       "      <th>category</th>\n",
       "      <th></th>\n",
       "      <th></th>\n",
       "    </tr>\n",
       "  </thead>\n",
       "  <tbody>\n",
       "    <tr>\n",
       "      <th>cat</th>\n",
       "      <td>8750</td>\n",
       "      <td>8750</td>\n",
       "    </tr>\n",
       "    <tr>\n",
       "      <th>dog</th>\n",
       "      <td>8750</td>\n",
       "      <td>8750</td>\n",
       "    </tr>\n",
       "  </tbody>\n",
       "</table>\n",
       "</div>"
      ],
      "text/plain": [
       "            id  filename\n",
       "category                \n",
       "cat       8750      8750\n",
       "dog       8750      8750"
      ]
     },
     "execution_count": 6,
     "metadata": {},
     "output_type": "execute_result"
    }
   ],
   "source": [
    "train.groupby('category').count()"
   ]
  },
  {
   "cell_type": "code",
   "execution_count": 7,
   "id": "classified-anthony",
   "metadata": {
    "execution": {
     "iopub.execute_input": "2021-06-02T08:45:50.271502Z",
     "iopub.status.busy": "2021-06-02T08:45:50.270826Z",
     "iopub.status.idle": "2021-06-02T08:45:50.284127Z",
     "shell.execute_reply": "2021-06-02T08:45:50.283515Z",
     "shell.execute_reply.started": "2021-06-02T07:50:06.926186Z"
    },
    "papermill": {
     "duration": 0.045174,
     "end_time": "2021-06-02T08:45:50.284269",
     "exception": false,
     "start_time": "2021-06-02T08:45:50.239095",
     "status": "completed"
    },
    "tags": []
   },
   "outputs": [
    {
     "data": {
      "text/html": [
       "<div>\n",
       "<style scoped>\n",
       "    .dataframe tbody tr th:only-of-type {\n",
       "        vertical-align: middle;\n",
       "    }\n",
       "\n",
       "    .dataframe tbody tr th {\n",
       "        vertical-align: top;\n",
       "    }\n",
       "\n",
       "    .dataframe thead th {\n",
       "        text-align: right;\n",
       "    }\n",
       "</style>\n",
       "<table border=\"1\" class=\"dataframe\">\n",
       "  <thead>\n",
       "    <tr style=\"text-align: right;\">\n",
       "      <th></th>\n",
       "      <th>id</th>\n",
       "      <th>filename</th>\n",
       "    </tr>\n",
       "    <tr>\n",
       "      <th>category</th>\n",
       "      <th></th>\n",
       "      <th></th>\n",
       "    </tr>\n",
       "  </thead>\n",
       "  <tbody>\n",
       "    <tr>\n",
       "      <th>cat</th>\n",
       "      <td>3750</td>\n",
       "      <td>3750</td>\n",
       "    </tr>\n",
       "    <tr>\n",
       "      <th>dog</th>\n",
       "      <td>3750</td>\n",
       "      <td>3750</td>\n",
       "    </tr>\n",
       "  </tbody>\n",
       "</table>\n",
       "</div>"
      ],
      "text/plain": [
       "            id  filename\n",
       "category                \n",
       "cat       3750      3750\n",
       "dog       3750      3750"
      ]
     },
     "execution_count": 7,
     "metadata": {},
     "output_type": "execute_result"
    }
   ],
   "source": [
    "test.groupby('category').count()"
   ]
  },
  {
   "cell_type": "code",
   "execution_count": 8,
   "id": "lucky-division",
   "metadata": {
    "execution": {
     "iopub.execute_input": "2021-06-02T08:45:50.340208Z",
     "iopub.status.busy": "2021-06-02T08:45:50.339516Z",
     "iopub.status.idle": "2021-06-02T08:45:58.404318Z",
     "shell.execute_reply": "2021-06-02T08:45:58.403422Z",
     "shell.execute_reply.started": "2021-06-02T07:52:12.010662Z"
    },
    "papermill": {
     "duration": 8.096288,
     "end_time": "2021-06-02T08:45:58.404513",
     "exception": false,
     "start_time": "2021-06-02T08:45:50.308225",
     "status": "completed"
    },
    "tags": []
   },
   "outputs": [
    {
     "name": "stdout",
     "output_type": "stream",
     "text": [
      "Found 17500 validated image filenames belonging to 2 classes.\n",
      "Found 7500 validated image filenames belonging to 2 classes.\n"
     ]
    }
   ],
   "source": [
    "import tensorflow as tf\n",
    "from keras.preprocessing.image import ImageDataGenerator\n",
    "\n",
    "train_datagen = ImageDataGenerator(rescale = 1./255,\n",
    "                                   shear_range = 0.2,\n",
    "                                   zoom_range = 0.2,\n",
    "                                   horizontal_flip = True)\n",
    "\n",
    "training_set = train_datagen.flow_from_dataframe(train,directory='/kaggle/temp/train',x_col=\"filename\", y_col=\"category\",\n",
    "                                                 target_size = (64, 64),\n",
    "                                                 batch_size = 32,\n",
    "                                                 class_mode = 'binary')\n",
    "\n",
    "# Preprocessing the Test set\n",
    "test_datagen = ImageDataGenerator(rescale = 1./255)\n",
    "test_set = test_datagen.flow_from_dataframe(test,directory='/kaggle/temp/train',x_col=\"filename\", y_col=\"category\",\n",
    "                                            target_size = (64, 64),\n",
    "                                            batch_size = 32,\n",
    "                                            class_mode = 'binary')"
   ]
  },
  {
   "cell_type": "code",
   "execution_count": 9,
   "id": "north-ministry",
   "metadata": {
    "execution": {
     "iopub.execute_input": "2021-06-02T08:45:58.459510Z",
     "iopub.status.busy": "2021-06-02T08:45:58.458817Z",
     "iopub.status.idle": "2021-06-02T08:45:58.462099Z",
     "shell.execute_reply": "2021-06-02T08:45:58.461433Z",
     "shell.execute_reply.started": "2021-06-02T07:41:48.348483Z"
    },
    "papermill": {
     "duration": 0.032638,
     "end_time": "2021-06-02T08:45:58.462234",
     "exception": false,
     "start_time": "2021-06-02T08:45:58.429596",
     "status": "completed"
    },
    "tags": []
   },
   "outputs": [
    {
     "name": "stdout",
     "output_type": "stream",
     "text": [
      "(17500, 3)\n",
      "(7500, 3)\n"
     ]
    }
   ],
   "source": [
    "print(train.shape)\n",
    "print(test.shape)"
   ]
  },
  {
   "cell_type": "code",
   "execution_count": 10,
   "id": "professional-direction",
   "metadata": {
    "execution": {
     "iopub.execute_input": "2021-06-02T08:45:58.533862Z",
     "iopub.status.busy": "2021-06-02T08:45:58.533118Z",
     "iopub.status.idle": "2021-06-02T09:25:25.585999Z",
     "shell.execute_reply": "2021-06-02T09:25:25.586421Z",
     "shell.execute_reply.started": "2021-06-02T07:52:23.911751Z"
    },
    "papermill": {
     "duration": 2367.098698,
     "end_time": "2021-06-02T09:25:25.586593",
     "exception": false,
     "start_time": "2021-06-02T08:45:58.487895",
     "status": "completed"
    },
    "tags": []
   },
   "outputs": [
    {
     "name": "stdout",
     "output_type": "stream",
     "text": [
      "Epoch 1/25\n",
      "547/547 [==============================] - 103s 187ms/step - loss: 0.6938 - accuracy: 0.5050 - val_loss: 0.6870 - val_accuracy: 0.5000\n",
      "Epoch 2/25\n",
      "547/547 [==============================] - 102s 187ms/step - loss: 0.6780 - accuracy: 0.5813 - val_loss: 0.6362 - val_accuracy: 0.6485\n",
      "Epoch 3/25\n",
      "547/547 [==============================] - 102s 186ms/step - loss: 0.6485 - accuracy: 0.6197 - val_loss: 0.5901 - val_accuracy: 0.6897\n",
      "Epoch 4/25\n",
      "547/547 [==============================] - 102s 186ms/step - loss: 0.5985 - accuracy: 0.6781 - val_loss: 0.5576 - val_accuracy: 0.6952\n",
      "Epoch 5/25\n",
      "547/547 [==============================] - 102s 186ms/step - loss: 0.5604 - accuracy: 0.7106 - val_loss: 0.5000 - val_accuracy: 0.7556\n",
      "Epoch 6/25\n",
      "547/547 [==============================] - 100s 183ms/step - loss: 0.5229 - accuracy: 0.7368 - val_loss: 0.4577 - val_accuracy: 0.7817\n",
      "Epoch 7/25\n",
      "547/547 [==============================] - 101s 185ms/step - loss: 0.4959 - accuracy: 0.7585 - val_loss: 0.4698 - val_accuracy: 0.7729\n",
      "Epoch 8/25\n",
      "547/547 [==============================] - 102s 186ms/step - loss: 0.4889 - accuracy: 0.7658 - val_loss: 0.4234 - val_accuracy: 0.8036\n",
      "Epoch 9/25\n",
      "547/547 [==============================] - 102s 187ms/step - loss: 0.4655 - accuracy: 0.7768 - val_loss: 0.4460 - val_accuracy: 0.8043\n",
      "Epoch 10/25\n",
      "547/547 [==============================] - 102s 187ms/step - loss: 0.4476 - accuracy: 0.7855 - val_loss: 0.4050 - val_accuracy: 0.8139\n",
      "Epoch 11/25\n",
      "547/547 [==============================] - 101s 185ms/step - loss: 0.4450 - accuracy: 0.7894 - val_loss: 0.4000 - val_accuracy: 0.8172\n",
      "Epoch 12/25\n",
      "547/547 [==============================] - 102s 187ms/step - loss: 0.4335 - accuracy: 0.7982 - val_loss: 0.3932 - val_accuracy: 0.8253\n",
      "Epoch 13/25\n",
      "547/547 [==============================] - 103s 188ms/step - loss: 0.4258 - accuracy: 0.7973 - val_loss: 0.4355 - val_accuracy: 0.7975\n",
      "Epoch 14/25\n",
      "547/547 [==============================] - 103s 187ms/step - loss: 0.4089 - accuracy: 0.8121 - val_loss: 0.4245 - val_accuracy: 0.8005\n",
      "Epoch 15/25\n",
      "547/547 [==============================] - 104s 190ms/step - loss: 0.4048 - accuracy: 0.8114 - val_loss: 0.3742 - val_accuracy: 0.8323\n",
      "Epoch 16/25\n",
      "547/547 [==============================] - 103s 187ms/step - loss: 0.4044 - accuracy: 0.8160 - val_loss: 0.3583 - val_accuracy: 0.8363\n",
      "Epoch 17/25\n",
      "547/547 [==============================] - 105s 192ms/step - loss: 0.3849 - accuracy: 0.8261 - val_loss: 0.3891 - val_accuracy: 0.8207\n",
      "Epoch 18/25\n",
      "547/547 [==============================] - 106s 193ms/step - loss: 0.3881 - accuracy: 0.8214 - val_loss: 0.3514 - val_accuracy: 0.8399\n",
      "Epoch 19/25\n",
      "547/547 [==============================] - 104s 190ms/step - loss: 0.3759 - accuracy: 0.8290 - val_loss: 0.3517 - val_accuracy: 0.8381\n",
      "Epoch 20/25\n",
      "547/547 [==============================] - 105s 191ms/step - loss: 0.3736 - accuracy: 0.8317 - val_loss: 0.3257 - val_accuracy: 0.8512\n",
      "Epoch 21/25\n",
      "547/547 [==============================] - 105s 191ms/step - loss: 0.3658 - accuracy: 0.8364 - val_loss: 0.3427 - val_accuracy: 0.8495\n",
      "Epoch 22/25\n",
      "547/547 [==============================] - 105s 191ms/step - loss: 0.3710 - accuracy: 0.8326 - val_loss: 0.3342 - val_accuracy: 0.8499\n",
      "Epoch 23/25\n",
      "547/547 [==============================] - 103s 188ms/step - loss: 0.3628 - accuracy: 0.8356 - val_loss: 0.3556 - val_accuracy: 0.8456\n"
     ]
    },
    {
     "data": {
      "text/plain": [
       "[0.6870089173316956,\n",
       " 0.6361600160598755,\n",
       " 0.5900741815567017,\n",
       " 0.5576307773590088,\n",
       " 0.5000194311141968,\n",
       " 0.45769673585891724,\n",
       " 0.4697992503643036,\n",
       " 0.42338651418685913,\n",
       " 0.4459749460220337,\n",
       " 0.4049776792526245,\n",
       " 0.3999503254890442,\n",
       " 0.3932342529296875,\n",
       " 0.4355040490627289,\n",
       " 0.42448484897613525,\n",
       " 0.37421467900276184,\n",
       " 0.35832956433296204,\n",
       " 0.3891378343105316,\n",
       " 0.3513873517513275,\n",
       " 0.3516543209552765,\n",
       " 0.3257339894771576,\n",
       " 0.34272629022598267,\n",
       " 0.3342386782169342,\n",
       " 0.3556255102157593]"
      ]
     },
     "execution_count": 10,
     "metadata": {},
     "output_type": "execute_result"
    }
   ],
   "source": [
    "# Building the CNN\n",
    "from keras.models import Model,Sequential\n",
    "from keras.layers import Conv2D, MaxPooling2D, Dropout, Dense,Flatten\n",
    "# Initialising the CNN\n",
    "cnn = tf.keras.models.Sequential()\n",
    "\n",
    "# Step 1 - Convolution\n",
    "cnn.add(tf.keras.layers.Conv2D(filters=32, kernel_size=3, activation='relu', input_shape=[64, 64, 3]))\n",
    "\n",
    "# Step 2 - Pooling\n",
    "cnn.add(tf.keras.layers.MaxPool2D(pool_size=2, strides=2))\n",
    "cnn.add(Dropout(0.2))\n",
    "# Adding a second convolutional layer\n",
    "cnn.add(tf.keras.layers.Conv2D(filters=32, kernel_size=3, activation='relu'))\n",
    "cnn.add(tf.keras.layers.MaxPool2D(pool_size=2, strides=2))\n",
    "cnn.add(tf.keras.layers.Conv2D(filters=64, kernel_size=3, activation='relu'))\n",
    "cnn.add(tf.keras.layers.MaxPool2D(pool_size=2, strides=2))\n",
    "cnn.add(Dropout(0.2))\n",
    "cnn.add(tf.keras.layers.Conv2D(filters=128, kernel_size=3, activation='relu'))\n",
    "cnn.add(tf.keras.layers.Conv2D(filters=128, kernel_size=3, activation='relu'))\n",
    "cnn.add(tf.keras.layers.MaxPool2D(pool_size=2, strides=2))\n",
    "\n",
    "# Step 3 - Flattening\n",
    "cnn.add(tf.keras.layers.Flatten())\n",
    "\n",
    "# Step 4 - Full Connection\n",
    "cnn.add(tf.keras.layers.Dense(units=128, activation='relu'))\n",
    "cnn.add(Dropout(0.2))\n",
    "# Step 5 - Output Layer\n",
    "cnn.add(tf.keras.layers.Dense(units=1, activation='sigmoid'))\n",
    "\n",
    "# Part 3 - Training the CNN\n",
    "\n",
    "# Compiling the CNN\n",
    "cnn.compile(optimizer = 'adam', loss = 'binary_crossentropy', metrics = ['accuracy'])\n",
    "es = tf.keras.callbacks.EarlyStopping(\n",
    "    monitor=\"val_loss\",\n",
    "    patience=3\n",
    ")\n",
    "# Training the CNN on the Training set and evaluating it on the Test set\n",
    "history = cnn.fit(x = training_set, validation_data = test_set, epochs = 25, callbacks=[es])\n",
    "history.history['val_loss']"
   ]
  },
  {
   "cell_type": "code",
   "execution_count": 11,
   "id": "blond-mixer",
   "metadata": {
    "execution": {
     "iopub.execute_input": "2021-06-02T09:25:32.050475Z",
     "iopub.status.busy": "2021-06-02T09:25:32.049972Z",
     "iopub.status.idle": "2021-06-02T09:25:39.964568Z",
     "shell.execute_reply": "2021-06-02T09:25:39.964961Z",
     "shell.execute_reply.started": "2021-06-02T08:21:37.346006Z"
    },
    "papermill": {
     "duration": 11.181862,
     "end_time": "2021-06-02T09:25:39.965112",
     "exception": false,
     "start_time": "2021-06-02T09:25:28.783250",
     "status": "completed"
    },
    "tags": []
   },
   "outputs": [],
   "source": [
    "zip = zipfile.ZipFile('/kaggle/input/dogs-vs-cats/test1.zip')\n",
    "zip.extractall('/kaggle/temp/')\n",
    "\n",
    "# list available files in the container\n",
    "#print (zip.namelist())"
   ]
  },
  {
   "cell_type": "code",
   "execution_count": 12,
   "id": "basic-entrepreneur",
   "metadata": {
    "execution": {
     "iopub.execute_input": "2021-06-02T09:25:50.042120Z",
     "iopub.status.busy": "2021-06-02T09:25:50.041124Z",
     "iopub.status.idle": "2021-06-02T09:25:50.095924Z",
     "shell.execute_reply": "2021-06-02T09:25:50.096449Z",
     "shell.execute_reply.started": "2021-06-02T08:22:13.562789Z"
    },
    "papermill": {
     "duration": 5.33987,
     "end_time": "2021-06-02T09:25:50.096598",
     "exception": false,
     "start_time": "2021-06-02T09:25:44.756728",
     "status": "completed"
    },
    "tags": []
   },
   "outputs": [
    {
     "data": {
      "text/html": [
       "<div>\n",
       "<style scoped>\n",
       "    .dataframe tbody tr th:only-of-type {\n",
       "        vertical-align: middle;\n",
       "    }\n",
       "\n",
       "    .dataframe tbody tr th {\n",
       "        vertical-align: top;\n",
       "    }\n",
       "\n",
       "    .dataframe thead th {\n",
       "        text-align: right;\n",
       "    }\n",
       "</style>\n",
       "<table border=\"1\" class=\"dataframe\">\n",
       "  <thead>\n",
       "    <tr style=\"text-align: right;\">\n",
       "      <th></th>\n",
       "      <th>id</th>\n",
       "      <th>filename</th>\n",
       "    </tr>\n",
       "  </thead>\n",
       "  <tbody>\n",
       "    <tr>\n",
       "      <th>0</th>\n",
       "      <td>10435</td>\n",
       "      <td>10435.jpg</td>\n",
       "    </tr>\n",
       "    <tr>\n",
       "      <th>1</th>\n",
       "      <td>6790</td>\n",
       "      <td>6790.jpg</td>\n",
       "    </tr>\n",
       "    <tr>\n",
       "      <th>2</th>\n",
       "      <td>4644</td>\n",
       "      <td>4644.jpg</td>\n",
       "    </tr>\n",
       "    <tr>\n",
       "      <th>3</th>\n",
       "      <td>1835</td>\n",
       "      <td>1835.jpg</td>\n",
       "    </tr>\n",
       "    <tr>\n",
       "      <th>4</th>\n",
       "      <td>1102</td>\n",
       "      <td>1102.jpg</td>\n",
       "    </tr>\n",
       "  </tbody>\n",
       "</table>\n",
       "</div>"
      ],
      "text/plain": [
       "      id   filename\n",
       "0  10435  10435.jpg\n",
       "1   6790   6790.jpg\n",
       "2   4644   4644.jpg\n",
       "3   1835   1835.jpg\n",
       "4   1102   1102.jpg"
      ]
     },
     "execution_count": 12,
     "metadata": {},
     "output_type": "execute_result"
    }
   ],
   "source": [
    "filenames = os.listdir('/kaggle/temp/test1') \n",
    "'''example: '''\n",
    "import re\n",
    "id = []\n",
    "for name in filenames:\n",
    "    id.append(name.split('.')[0])\n",
    "    \n",
    "df = pd.DataFrame.from_dict({'id':id,'filename':filenames})\n",
    "df.head()"
   ]
  },
  {
   "cell_type": "code",
   "execution_count": 13,
   "id": "educated-teaching",
   "metadata": {
    "execution": {
     "iopub.execute_input": "2021-06-02T09:25:57.737970Z",
     "iopub.status.busy": "2021-06-02T09:25:57.737343Z",
     "iopub.status.idle": "2021-06-02T09:25:57.912606Z",
     "shell.execute_reply": "2021-06-02T09:25:57.911792Z",
     "shell.execute_reply.started": "2021-06-02T08:24:51.937889Z"
    },
    "papermill": {
     "duration": 3.637206,
     "end_time": "2021-06-02T09:25:57.912760",
     "exception": false,
     "start_time": "2021-06-02T09:25:54.275554",
     "status": "completed"
    },
    "tags": []
   },
   "outputs": [
    {
     "name": "stdout",
     "output_type": "stream",
     "text": [
      "Found 12500 validated image filenames.\n"
     ]
    }
   ],
   "source": [
    "predict_datagen = ImageDataGenerator(rescale = 1./255)\n",
    "predict_set = predict_datagen.flow_from_dataframe(df,directory='/kaggle/temp/test1',x_col=\"filename\", y_col=None,\n",
    "                                            target_size = (64, 64),\n",
    "                                            batch_size = 32,\n",
    "                                            class_mode = None,\n",
    "                                            shuffle=False)"
   ]
  },
  {
   "cell_type": "code",
   "execution_count": 14,
   "id": "sitting-volleyball",
   "metadata": {
    "execution": {
     "iopub.execute_input": "2021-06-02T09:26:06.958038Z",
     "iopub.status.busy": "2021-06-02T09:26:06.957263Z",
     "iopub.status.idle": "2021-06-02T09:26:38.881343Z",
     "shell.execute_reply": "2021-06-02T09:26:38.880860Z",
     "shell.execute_reply.started": "2021-06-02T08:25:32.173826Z"
    },
    "papermill": {
     "duration": 36.919347,
     "end_time": "2021-06-02T09:26:38.881532",
     "exception": false,
     "start_time": "2021-06-02T09:26:01.962185",
     "status": "completed"
    },
    "tags": []
   },
   "outputs": [
    {
     "name": "stderr",
     "output_type": "stream",
     "text": [
      "/opt/conda/lib/python3.7/site-packages/tensorflow/python/keras/engine/training.py:1905: UserWarning: `Model.predict_generator` is deprecated and will be removed in a future version. Please use `Model.predict`, which supports generators.\n",
      "  warnings.warn('`Model.predict_generator` is deprecated and '\n"
     ]
    }
   ],
   "source": [
    "pred_out=cnn.predict_generator(predict_set,steps = df.shape[0])"
   ]
  },
  {
   "cell_type": "code",
   "execution_count": 15,
   "id": "outer-element",
   "metadata": {
    "execution": {
     "iopub.execute_input": "2021-06-02T09:26:45.454652Z",
     "iopub.status.busy": "2021-06-02T09:26:45.453776Z",
     "iopub.status.idle": "2021-06-02T09:26:45.459425Z",
     "shell.execute_reply": "2021-06-02T09:26:45.458689Z",
     "shell.execute_reply.started": "2021-06-02T08:26:42.714147Z"
    },
    "papermill": {
     "duration": 3.259501,
     "end_time": "2021-06-02T09:26:45.459571",
     "exception": false,
     "start_time": "2021-06-02T09:26:42.200070",
     "status": "completed"
    },
    "tags": []
   },
   "outputs": [
    {
     "data": {
      "text/plain": [
       "{'cat': 0, 'dog': 1}"
      ]
     },
     "execution_count": 15,
     "metadata": {},
     "output_type": "execute_result"
    }
   ],
   "source": [
    "training_set.class_indices"
   ]
  },
  {
   "cell_type": "code",
   "execution_count": 16,
   "id": "rubber-hunger",
   "metadata": {
    "execution": {
     "iopub.execute_input": "2021-06-02T09:26:55.510990Z",
     "iopub.status.busy": "2021-06-02T09:26:55.510146Z",
     "iopub.status.idle": "2021-06-02T09:26:55.549393Z",
     "shell.execute_reply": "2021-06-02T09:26:55.550347Z",
     "shell.execute_reply.started": "2021-06-02T08:33:29.581142Z"
    },
    "papermill": {
     "duration": 5.012431,
     "end_time": "2021-06-02T09:26:55.550612",
     "exception": false,
     "start_time": "2021-06-02T09:26:50.538181",
     "status": "completed"
    },
    "tags": []
   },
   "outputs": [],
   "source": [
    "labels= [1 if output > 0.5 else 0 for output in pred_out]\n",
    "#labels"
   ]
  },
  {
   "cell_type": "code",
   "execution_count": 17,
   "id": "pretty-diversity",
   "metadata": {
    "execution": {
     "iopub.execute_input": "2021-06-02T09:27:05.622769Z",
     "iopub.status.busy": "2021-06-02T09:27:05.622100Z",
     "iopub.status.idle": "2021-06-02T09:27:05.624735Z",
     "shell.execute_reply": "2021-06-02T09:27:05.625249Z",
     "shell.execute_reply.started": "2021-06-02T08:33:37.868754Z"
    },
    "papermill": {
     "duration": 5.020828,
     "end_time": "2021-06-02T09:27:05.625450",
     "exception": false,
     "start_time": "2021-06-02T09:27:00.604622",
     "status": "completed"
    },
    "tags": []
   },
   "outputs": [],
   "source": [
    "df['label']=labels"
   ]
  },
  {
   "cell_type": "code",
   "execution_count": 18,
   "id": "ecological-teach",
   "metadata": {
    "execution": {
     "iopub.execute_input": "2021-06-02T09:27:15.794983Z",
     "iopub.status.busy": "2021-06-02T09:27:15.794318Z",
     "iopub.status.idle": "2021-06-02T09:27:15.798041Z",
     "shell.execute_reply": "2021-06-02T09:27:15.798522Z",
     "shell.execute_reply.started": "2021-06-02T08:37:05.549626Z"
    },
    "papermill": {
     "duration": 5.131723,
     "end_time": "2021-06-02T09:27:15.798672",
     "exception": false,
     "start_time": "2021-06-02T09:27:10.666949",
     "status": "completed"
    },
    "tags": []
   },
   "outputs": [],
   "source": [
    "df.drop(columns=['filename'],inplace=True)\n"
   ]
  },
  {
   "cell_type": "code",
   "execution_count": 19,
   "id": "substantial-universal",
   "metadata": {
    "execution": {
     "iopub.execute_input": "2021-06-02T09:27:22.409914Z",
     "iopub.status.busy": "2021-06-02T09:27:22.409119Z",
     "iopub.status.idle": "2021-06-02T09:27:22.421405Z",
     "shell.execute_reply": "2021-06-02T09:27:22.420900Z",
     "shell.execute_reply.started": "2021-06-02T08:39:20.138590Z"
    },
    "papermill": {
     "duration": 3.348067,
     "end_time": "2021-06-02T09:27:22.421535",
     "exception": false,
     "start_time": "2021-06-02T09:27:19.073468",
     "status": "completed"
    },
    "tags": []
   },
   "outputs": [
    {
     "data": {
      "text/html": [
       "<div>\n",
       "<style scoped>\n",
       "    .dataframe tbody tr th:only-of-type {\n",
       "        vertical-align: middle;\n",
       "    }\n",
       "\n",
       "    .dataframe tbody tr th {\n",
       "        vertical-align: top;\n",
       "    }\n",
       "\n",
       "    .dataframe thead th {\n",
       "        text-align: right;\n",
       "    }\n",
       "</style>\n",
       "<table border=\"1\" class=\"dataframe\">\n",
       "  <thead>\n",
       "    <tr style=\"text-align: right;\">\n",
       "      <th></th>\n",
       "      <th>id</th>\n",
       "      <th>label</th>\n",
       "    </tr>\n",
       "  </thead>\n",
       "  <tbody>\n",
       "    <tr>\n",
       "      <th>0</th>\n",
       "      <td>10435</td>\n",
       "      <td>0</td>\n",
       "    </tr>\n",
       "    <tr>\n",
       "      <th>1</th>\n",
       "      <td>6790</td>\n",
       "      <td>1</td>\n",
       "    </tr>\n",
       "    <tr>\n",
       "      <th>2</th>\n",
       "      <td>4644</td>\n",
       "      <td>0</td>\n",
       "    </tr>\n",
       "    <tr>\n",
       "      <th>3</th>\n",
       "      <td>1835</td>\n",
       "      <td>0</td>\n",
       "    </tr>\n",
       "    <tr>\n",
       "      <th>4</th>\n",
       "      <td>1102</td>\n",
       "      <td>0</td>\n",
       "    </tr>\n",
       "  </tbody>\n",
       "</table>\n",
       "</div>"
      ],
      "text/plain": [
       "      id  label\n",
       "0  10435      0\n",
       "1   6790      1\n",
       "2   4644      0\n",
       "3   1835      0\n",
       "4   1102      0"
      ]
     },
     "execution_count": 19,
     "metadata": {},
     "output_type": "execute_result"
    }
   ],
   "source": [
    "df.head()"
   ]
  },
  {
   "cell_type": "code",
   "execution_count": 20,
   "id": "pointed-boutique",
   "metadata": {
    "execution": {
     "iopub.execute_input": "2021-06-02T09:27:29.846952Z",
     "iopub.status.busy": "2021-06-02T09:27:29.846211Z",
     "iopub.status.idle": "2021-06-02T09:27:29.878627Z",
     "shell.execute_reply": "2021-06-02T09:27:29.877917Z",
     "shell.execute_reply.started": "2021-06-02T08:39:25.075206Z"
    },
    "papermill": {
     "duration": 4.245728,
     "end_time": "2021-06-02T09:27:29.878773",
     "exception": false,
     "start_time": "2021-06-02T09:27:25.633045",
     "status": "completed"
    },
    "tags": []
   },
   "outputs": [],
   "source": [
    "df.to_csv('submission1.csv', index=False)"
   ]
  }
 ],
 "metadata": {
  "kernelspec": {
   "display_name": "Python 3",
   "language": "python",
   "name": "python3"
  },
  "language_info": {
   "codemirror_mode": {
    "name": "ipython",
    "version": 3
   },
   "file_extension": ".py",
   "mimetype": "text/x-python",
   "name": "python",
   "nbconvert_exporter": "python",
   "pygments_lexer": "ipython3",
   "version": "3.7.10"
  },
  "papermill": {
   "default_parameters": {},
   "duration": 2536.842268,
   "end_time": "2021-06-02T09:27:37.727752",
   "environment_variables": {},
   "exception": null,
   "input_path": "__notebook__.ipynb",
   "output_path": "__notebook__.ipynb",
   "parameters": {},
   "start_time": "2021-06-02T08:45:20.885484",
   "version": "2.3.3"
  }
 },
 "nbformat": 4,
 "nbformat_minor": 5
}
